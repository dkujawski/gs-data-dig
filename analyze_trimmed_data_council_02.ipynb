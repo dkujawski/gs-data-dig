{
 "cells": [
  {
   "cell_type": "markdown",
   "id": "f1a7b736-4f80-4db3-b28b-d5b861829c16",
   "metadata": {},
   "source": [
    "# Troop Booth Signups Analysis\n",
    "\n",
    "This notebook loads data from `data/2025_booth_signups_trimmed.csv` (which contains columns such as **Troop**, **Troop Email**, **Slot Start Time**, **Slot End Time**, **When Selected Date**, **When Selected Time**, **User Selecting**) and performs statistical analysis focused on the number of booth signup events per troop. In addition, the notebook identifies and labels potential outliers in the distribution of booth signup counts."
   ]
  },
  {
   "cell_type": "code",
   "execution_count": 11,
   "id": "23d9686e-0ef3-4e7f-92c7-5b3d299750c1",
   "metadata": {},
   "outputs": [],
   "source": [
    "import pandas as pd\n",
    "import numpy as np\n",
    "import matplotlib.pyplot as plt\n",
    "import seaborn as sns\n",
    "\n",
    "# Set up plotting style\n",
    "sns.set(style=\"whitegrid\")\n",
    "plt.rcParams['figure.figsize'] = (10, 6)"
   ]
  },
  {
   "cell_type": "markdown",
   "id": "a1a5c4fd-76ec-46ee-a42a-32d6b7db2c9b",
   "metadata": {},
   "source": [
    "## 1. Load the Data\n",
    "\n",
    "The data file is located at `data/2025_booth_signups_trimmed.csv`. It is assumed that the file has a header with the following columns:\n",
    "\n",
    "- Troop\n",
    "- Troop Email\n",
    "- Slot Start Time\n",
    "- Slot End Time\n",
    "- When Selected Date\n",
    "- When Selected Time\n",
    "- User Selecting\n",
    "\n",
    "Let's load the data into a pandas DataFrame."
   ]
  },
  {
   "cell_type": "code",
   "execution_count": 12,
   "id": "6f8ed3f3-7f1d-47b7-8b7f-64d1927c576b",
   "metadata": {},
   "outputs": [
    {
     "name": "stdout",
     "output_type": "stream",
     "text": [
      "Data preview:\n"
     ]
    },
    {
     "data": {
      "text/html": [
       "<div>\n",
       "<style scoped>\n",
       "    .dataframe tbody tr th:only-of-type {\n",
       "        vertical-align: middle;\n",
       "    }\n",
       "\n",
       "    .dataframe tbody tr th {\n",
       "        vertical-align: top;\n",
       "    }\n",
       "\n",
       "    .dataframe thead th {\n",
       "        text-align: right;\n",
       "    }\n",
       "</style>\n",
       "<table border=\"1\" class=\"dataframe\">\n",
       "  <thead>\n",
       "    <tr style=\"text-align: right;\">\n",
       "      <th></th>\n",
       "      <th>3586</th>\n",
       "      <th>richgrl0810@gmail.com</th>\n",
       "      <th>2000/01/01 16:00:00</th>\n",
       "      <th>2000/01/01 18:00:00</th>\n",
       "      <th>2025/01/14 20:05:19</th>\n",
       "      <th>2025/01/14 20:05:19.1</th>\n",
       "    </tr>\n",
       "  </thead>\n",
       "  <tbody>\n",
       "    <tr>\n",
       "      <th>0</th>\n",
       "      <td>4997</td>\n",
       "      <td>azgstroop4997@gmail.com</td>\n",
       "      <td>2000/01/01 18:00:00</td>\n",
       "      <td>2000/01/01 20:00:00</td>\n",
       "      <td>2025/01/15 20:00:02</td>\n",
       "      <td>2025/01/15 20:00:02</td>\n",
       "    </tr>\n",
       "    <tr>\n",
       "      <th>1</th>\n",
       "      <td>none</td>\n",
       "      <td>NaN</td>\n",
       "      <td>NaN</td>\n",
       "      <td>NaN</td>\n",
       "      <td>NaN</td>\n",
       "      <td>NaN</td>\n",
       "    </tr>\n",
       "    <tr>\n",
       "      <th>2</th>\n",
       "      <td>212</td>\n",
       "      <td>nikkigs212@gmail.com</td>\n",
       "      <td>2000/01/01 16:00:00</td>\n",
       "      <td>2000/01/01 18:00:00</td>\n",
       "      <td>2025/01/15 20:00:08</td>\n",
       "      <td>2025/01/15 20:00:08</td>\n",
       "    </tr>\n",
       "    <tr>\n",
       "      <th>3</th>\n",
       "      <td>212</td>\n",
       "      <td>nikkigs212@gmail.com</td>\n",
       "      <td>2000/01/01 18:00:00</td>\n",
       "      <td>2000/01/01 20:00:00</td>\n",
       "      <td>2025/01/15 20:00:08</td>\n",
       "      <td>2025/01/15 20:00:08</td>\n",
       "    </tr>\n",
       "    <tr>\n",
       "      <th>4</th>\n",
       "      <td>212</td>\n",
       "      <td>nikkigs212@gmail.com</td>\n",
       "      <td>2000/01/01 12:00:00</td>\n",
       "      <td>2000/01/01 14:00:00</td>\n",
       "      <td>2025/01/18 19:41:44</td>\n",
       "      <td>2025/01/18 19:41:44</td>\n",
       "    </tr>\n",
       "  </tbody>\n",
       "</table>\n",
       "</div>"
      ],
      "text/plain": [
       "   3586    richgrl0810@gmail.com  2000/01/01 16:00:00  2000/01/01 18:00:00  \\\n",
       "0  4997  azgstroop4997@gmail.com  2000/01/01 18:00:00  2000/01/01 20:00:00   \n",
       "1  none                      NaN                  NaN                  NaN   \n",
       "2   212     nikkigs212@gmail.com  2000/01/01 16:00:00  2000/01/01 18:00:00   \n",
       "3   212     nikkigs212@gmail.com  2000/01/01 18:00:00  2000/01/01 20:00:00   \n",
       "4   212     nikkigs212@gmail.com  2000/01/01 12:00:00  2000/01/01 14:00:00   \n",
       "\n",
       "   2025/01/14 20:05:19 2025/01/14 20:05:19.1  \n",
       "0  2025/01/15 20:00:02   2025/01/15 20:00:02  \n",
       "1                  NaN                   NaN  \n",
       "2  2025/01/15 20:00:08   2025/01/15 20:00:08  \n",
       "3  2025/01/15 20:00:08   2025/01/15 20:00:08  \n",
       "4  2025/01/18 19:41:44   2025/01/18 19:41:44  "
      ]
     },
     "execution_count": 12,
     "metadata": {},
     "output_type": "execute_result"
    }
   ],
   "source": [
    "# Define the path to the data file\n",
    "data_file = 'data/2025_booth_signups_council_trimmed.csv'\n",
    "\n",
    "# Load the CSV file (with header)\n",
    "df = pd.read_csv(data_file)\n",
    "\n",
    "# Display the first few rows\n",
    "print(\"Data preview:\")\n",
    "df.head()"
   ]
  },
  {
   "cell_type": "markdown",
   "id": "a1f51d05-2a4a-43f8-9025-57a4c3d3e2d5",
   "metadata": {},
   "source": [
    "## 2. Data Preparation\n",
    "\n",
    "We will convert the time columns to datetime objects. (Note: The sample times use a format like `2000/01/01 14:00:00`, which we assume is consistent for the time fields.)\n",
    "\n",
    "In our analysis we focus on counting the number of booth signup events per troop (each row is one event)."
   ]
  },
  {
   "cell_type": "code",
   "execution_count": 13,
   "id": "d46f7d24-8d3e-4241-bda3-9e4a8b0b7689",
   "metadata": {},
   "outputs": [
    {
     "ename": "KeyError",
     "evalue": "'Slot Start Time'",
     "output_type": "error",
     "traceback": [
      "\u001b[0;31m---------------------------------------------------------------------------\u001b[0m",
      "\u001b[0;31mKeyError\u001b[0m                                  Traceback (most recent call last)",
      "File \u001b[0;32m~/.cache/pypoetry/virtualenvs/az-cactus-pine-data--88GyGCD-py3.13/lib/python3.13/site-packages/pandas/core/indexes/base.py:3805\u001b[0m, in \u001b[0;36mIndex.get_loc\u001b[0;34m(self, key)\u001b[0m\n\u001b[1;32m   3804\u001b[0m \u001b[38;5;28;01mtry\u001b[39;00m:\n\u001b[0;32m-> 3805\u001b[0m     \u001b[38;5;28;01mreturn\u001b[39;00m \u001b[38;5;28;43mself\u001b[39;49m\u001b[38;5;241;43m.\u001b[39;49m\u001b[43m_engine\u001b[49m\u001b[38;5;241;43m.\u001b[39;49m\u001b[43mget_loc\u001b[49m\u001b[43m(\u001b[49m\u001b[43mcasted_key\u001b[49m\u001b[43m)\u001b[49m\n\u001b[1;32m   3806\u001b[0m \u001b[38;5;28;01mexcept\u001b[39;00m \u001b[38;5;167;01mKeyError\u001b[39;00m \u001b[38;5;28;01mas\u001b[39;00m err:\n",
      "File \u001b[0;32mindex.pyx:167\u001b[0m, in \u001b[0;36mpandas._libs.index.IndexEngine.get_loc\u001b[0;34m()\u001b[0m\n",
      "File \u001b[0;32mindex.pyx:196\u001b[0m, in \u001b[0;36mpandas._libs.index.IndexEngine.get_loc\u001b[0;34m()\u001b[0m\n",
      "File \u001b[0;32mpandas/_libs/hashtable_class_helper.pxi:7081\u001b[0m, in \u001b[0;36mpandas._libs.hashtable.PyObjectHashTable.get_item\u001b[0;34m()\u001b[0m\n",
      "File \u001b[0;32mpandas/_libs/hashtable_class_helper.pxi:7089\u001b[0m, in \u001b[0;36mpandas._libs.hashtable.PyObjectHashTable.get_item\u001b[0;34m()\u001b[0m\n",
      "\u001b[0;31mKeyError\u001b[0m: 'Slot Start Time'",
      "\nThe above exception was the direct cause of the following exception:\n",
      "\u001b[0;31mKeyError\u001b[0m                                  Traceback (most recent call last)",
      "Cell \u001b[0;32mIn[13], line 2\u001b[0m\n\u001b[1;32m      1\u001b[0m \u001b[38;5;66;03m# Convert time columns to datetime objects\u001b[39;00m\n\u001b[0;32m----> 2\u001b[0m df[\u001b[38;5;124m'\u001b[39m\u001b[38;5;124mSlot Start Time\u001b[39m\u001b[38;5;124m'\u001b[39m] \u001b[38;5;241m=\u001b[39m pd\u001b[38;5;241m.\u001b[39mto_datetime(\u001b[43mdf\u001b[49m\u001b[43m[\u001b[49m\u001b[38;5;124;43m'\u001b[39;49m\u001b[38;5;124;43mSlot Start Time\u001b[39;49m\u001b[38;5;124;43m'\u001b[39;49m\u001b[43m]\u001b[49m, \u001b[38;5;28mformat\u001b[39m\u001b[38;5;241m=\u001b[39m\u001b[38;5;124m'\u001b[39m\u001b[38;5;124m%\u001b[39m\u001b[38;5;124mY/\u001b[39m\u001b[38;5;124m%\u001b[39m\u001b[38;5;124mm/\u001b[39m\u001b[38;5;132;01m%d\u001b[39;00m\u001b[38;5;124m \u001b[39m\u001b[38;5;124m%\u001b[39m\u001b[38;5;124mH:\u001b[39m\u001b[38;5;124m%\u001b[39m\u001b[38;5;124mM:\u001b[39m\u001b[38;5;124m%\u001b[39m\u001b[38;5;124mS\u001b[39m\u001b[38;5;124m'\u001b[39m, errors\u001b[38;5;241m=\u001b[39m\u001b[38;5;124m'\u001b[39m\u001b[38;5;124mcoerce\u001b[39m\u001b[38;5;124m'\u001b[39m)\n\u001b[1;32m      3\u001b[0m df[\u001b[38;5;124m'\u001b[39m\u001b[38;5;124mSlot End Time\u001b[39m\u001b[38;5;124m'\u001b[39m]   \u001b[38;5;241m=\u001b[39m pd\u001b[38;5;241m.\u001b[39mto_datetime(df[\u001b[38;5;124m'\u001b[39m\u001b[38;5;124mSlot End Time\u001b[39m\u001b[38;5;124m'\u001b[39m], \u001b[38;5;28mformat\u001b[39m\u001b[38;5;241m=\u001b[39m\u001b[38;5;124m'\u001b[39m\u001b[38;5;124m%\u001b[39m\u001b[38;5;124mY/\u001b[39m\u001b[38;5;124m%\u001b[39m\u001b[38;5;124mm/\u001b[39m\u001b[38;5;132;01m%d\u001b[39;00m\u001b[38;5;124m \u001b[39m\u001b[38;5;124m%\u001b[39m\u001b[38;5;124mH:\u001b[39m\u001b[38;5;124m%\u001b[39m\u001b[38;5;124mM:\u001b[39m\u001b[38;5;124m%\u001b[39m\u001b[38;5;124mS\u001b[39m\u001b[38;5;124m'\u001b[39m, errors\u001b[38;5;241m=\u001b[39m\u001b[38;5;124m'\u001b[39m\u001b[38;5;124mcoerce\u001b[39m\u001b[38;5;124m'\u001b[39m)\n\u001b[1;32m      5\u001b[0m \u001b[38;5;66;03m# If desired, you can also convert the When Selected Date and When Selected Time\u001b[39;00m\n",
      "File \u001b[0;32m~/.cache/pypoetry/virtualenvs/az-cactus-pine-data--88GyGCD-py3.13/lib/python3.13/site-packages/pandas/core/frame.py:4102\u001b[0m, in \u001b[0;36mDataFrame.__getitem__\u001b[0;34m(self, key)\u001b[0m\n\u001b[1;32m   4100\u001b[0m \u001b[38;5;28;01mif\u001b[39;00m \u001b[38;5;28mself\u001b[39m\u001b[38;5;241m.\u001b[39mcolumns\u001b[38;5;241m.\u001b[39mnlevels \u001b[38;5;241m>\u001b[39m \u001b[38;5;241m1\u001b[39m:\n\u001b[1;32m   4101\u001b[0m     \u001b[38;5;28;01mreturn\u001b[39;00m \u001b[38;5;28mself\u001b[39m\u001b[38;5;241m.\u001b[39m_getitem_multilevel(key)\n\u001b[0;32m-> 4102\u001b[0m indexer \u001b[38;5;241m=\u001b[39m \u001b[38;5;28;43mself\u001b[39;49m\u001b[38;5;241;43m.\u001b[39;49m\u001b[43mcolumns\u001b[49m\u001b[38;5;241;43m.\u001b[39;49m\u001b[43mget_loc\u001b[49m\u001b[43m(\u001b[49m\u001b[43mkey\u001b[49m\u001b[43m)\u001b[49m\n\u001b[1;32m   4103\u001b[0m \u001b[38;5;28;01mif\u001b[39;00m is_integer(indexer):\n\u001b[1;32m   4104\u001b[0m     indexer \u001b[38;5;241m=\u001b[39m [indexer]\n",
      "File \u001b[0;32m~/.cache/pypoetry/virtualenvs/az-cactus-pine-data--88GyGCD-py3.13/lib/python3.13/site-packages/pandas/core/indexes/base.py:3812\u001b[0m, in \u001b[0;36mIndex.get_loc\u001b[0;34m(self, key)\u001b[0m\n\u001b[1;32m   3807\u001b[0m     \u001b[38;5;28;01mif\u001b[39;00m \u001b[38;5;28misinstance\u001b[39m(casted_key, \u001b[38;5;28mslice\u001b[39m) \u001b[38;5;129;01mor\u001b[39;00m (\n\u001b[1;32m   3808\u001b[0m         \u001b[38;5;28misinstance\u001b[39m(casted_key, abc\u001b[38;5;241m.\u001b[39mIterable)\n\u001b[1;32m   3809\u001b[0m         \u001b[38;5;129;01mand\u001b[39;00m \u001b[38;5;28many\u001b[39m(\u001b[38;5;28misinstance\u001b[39m(x, \u001b[38;5;28mslice\u001b[39m) \u001b[38;5;28;01mfor\u001b[39;00m x \u001b[38;5;129;01min\u001b[39;00m casted_key)\n\u001b[1;32m   3810\u001b[0m     ):\n\u001b[1;32m   3811\u001b[0m         \u001b[38;5;28;01mraise\u001b[39;00m InvalidIndexError(key)\n\u001b[0;32m-> 3812\u001b[0m     \u001b[38;5;28;01mraise\u001b[39;00m \u001b[38;5;167;01mKeyError\u001b[39;00m(key) \u001b[38;5;28;01mfrom\u001b[39;00m\u001b[38;5;250m \u001b[39m\u001b[38;5;21;01merr\u001b[39;00m\n\u001b[1;32m   3813\u001b[0m \u001b[38;5;28;01mexcept\u001b[39;00m \u001b[38;5;167;01mTypeError\u001b[39;00m:\n\u001b[1;32m   3814\u001b[0m     \u001b[38;5;66;03m# If we have a listlike key, _check_indexing_error will raise\u001b[39;00m\n\u001b[1;32m   3815\u001b[0m     \u001b[38;5;66;03m#  InvalidIndexError. Otherwise we fall through and re-raise\u001b[39;00m\n\u001b[1;32m   3816\u001b[0m     \u001b[38;5;66;03m#  the TypeError.\u001b[39;00m\n\u001b[1;32m   3817\u001b[0m     \u001b[38;5;28mself\u001b[39m\u001b[38;5;241m.\u001b[39m_check_indexing_error(key)\n",
      "\u001b[0;31mKeyError\u001b[0m: 'Slot Start Time'"
     ]
    }
   ],
   "source": [
    "# Convert time columns to datetime objects\n",
    "df['Slot Start Time'] = pd.to_datetime(df['Slot Start Time'], format='%Y/%m/%d %H:%M:%S', errors='coerce')\n",
    "df['Slot End Time']   = pd.to_datetime(df['Slot End Time'], format='%Y/%m/%d %H:%M:%S', errors='coerce')\n",
    "\n",
    "# If desired, you can also convert the When Selected Date and When Selected Time\n",
    "df['When Selected Date'] = pd.to_datetime(df['When Selected Date'], format='%Y/%m/%d %H:%M:%S', errors='coerce')\n",
    "df['When Selected Time'] = pd.to_datetime(df['When Selected Time'], format='%Y/%m/%d %H:%M:%S', errors='coerce')\n",
    "\n",
    "# Check the data types\n",
    "df.info()"
   ]
  },
  {
   "cell_type": "markdown",
   "id": "7e99b45e-8c39-4a68-aea0-2f5e1da0e4a0",
   "metadata": {},
   "source": [
    "## 3. Aggregating Booth Signups per Troop\n",
    "\n",
    "Since each row represents one booth signup event, we can count the number of events per troop by grouping on the **Troop** column."
   ]
  },
  {
   "cell_type": "code",
   "execution_count": null,
   "id": "91b7a8f3-56c3-42fa-8f66-94c0f0dbf4fa",
   "metadata": {},
   "outputs": [
    {
     "name": "stdout",
     "output_type": "stream",
     "text": [
      "Booth signup counts per troop:\n",
      "    Troop  Num_Booths\n",
      "627  none        2199\n",
      "230  3396         271\n",
      "60    203         155\n",
      "306  3829          85\n",
      "481   558          84\n",
      "..    ...         ...\n",
      "54   1941           1\n",
      "87   2167           1\n",
      "39   1658           1\n",
      "48   1775           1\n",
      "28   1411           1\n",
      "\n",
      "[628 rows x 2 columns]\n",
      "\n",
      "Descriptive statistics for booth signups per troop:\n",
      "count     628.000000\n",
      "mean       18.305732\n",
      "std        88.962147\n",
      "min         1.000000\n",
      "25%         5.000000\n",
      "50%        10.000000\n",
      "75%        19.000000\n",
      "max      2199.000000\n",
      "Name: Num_Booths, dtype: float64\n"
     ]
    }
   ],
   "source": [
    "# Group by Troop and count the number of signup events per troop\n",
    "troop_counts = df.groupby('Troop').size().reset_index(name='Num_Booths')\n",
    "\n",
    "# Sort by number of booths (signup events)\n",
    "troop_counts.sort_values('Num_Booths', ascending=False, inplace=True)\n",
    "print(\"Booth signup counts per troop:\")\n",
    "print(troop_counts)\n",
    "\n",
    "# Compute descriptive statistics\n",
    "desc_stats = troop_counts['Num_Booths'].describe()\n",
    "print(\"\\nDescriptive statistics for booth signups per troop:\")\n",
    "print(desc_stats)"
   ]
  },
  {
   "cell_type": "markdown",
   "id": "97293e2d-9345-4ee8-b239-bdc2775f4d45",
   "metadata": {},
   "source": [
    "## 4. Outlier Detection\n",
    "\n",
    "We use the Interquartile Range (IQR) method to identify potential outliers in the number of booth signup events per troop.\n",
    "\n",
    "An outlier is defined as a troop whose count is below Q1 - 1.5×IQR or above Q3 + 1.5×IQR."
   ]
  },
  {
   "cell_type": "code",
   "execution_count": 5,
   "id": "8bf445b8-7d91-4a3b-a7f0-5de16ce14cf3",
   "metadata": {},
   "outputs": [
    {
     "name": "stdout",
     "output_type": "stream",
     "text": [
      "Q1: 5.0, Q3: 19.0, IQR: 14.0\n",
      "Lower bound: -16.0, Upper bound: 40.0\n",
      "\n",
      "Outlier troops (by number of booth signups):\n",
      "    Troop  Num_Booths\n",
      "627  none        2199\n",
      "230  3396         271\n",
      "60    203         155\n",
      "306  3829          85\n",
      "481   558          84\n",
      "79   2121          73\n",
      "602   872          68\n",
      "466  4929          67\n",
      "262  3587          63\n",
      "599    80          62\n",
      "559  7121          61\n",
      "470  4997          61\n",
      "562  7190          61\n",
      "78    212          60\n",
      "302  3822          59\n",
      "340  3983          59\n",
      "396   436          59\n",
      "42   1682          58\n",
      "556  7073          58\n",
      "255  3561          57\n",
      "16    123          56\n",
      "423  4520          55\n",
      "501  6310          53\n",
      "476  5381          52\n",
      "578  7425          52\n",
      "228  3392          50\n",
      "172  3108          47\n",
      "523  6527          46\n",
      "521  6520          45\n",
      "341  3985          45\n",
      "409  4458          45\n",
      "413  4491          43\n",
      "618  9653          43\n",
      "130  2589          42\n",
      "360   417          42\n",
      "169  3092          41\n",
      "268  3605          41\n"
     ]
    }
   ],
   "source": [
    "Q1 = troop_counts['Num_Booths'].quantile(0.25)\n",
    "Q3 = troop_counts['Num_Booths'].quantile(0.75)\n",
    "IQR = Q3 - Q1\n",
    "\n",
    "lower_bound = Q1 - 1.5 * IQR\n",
    "upper_bound = Q3 + 1.5 * IQR\n",
    "\n",
    "print(f\"Q1: {Q1}, Q3: {Q3}, IQR: {IQR}\")\n",
    "print(f\"Lower bound: {lower_bound}, Upper bound: {upper_bound}\")\n",
    "\n",
    "# Identify outlier troops\n",
    "outliers = troop_counts[(troop_counts['Num_Booths'] < lower_bound) | (troop_counts['Num_Booths'] > upper_bound)]\n",
    "print(\"\\nOutlier troops (by number of booth signups):\")\n",
    "print(outliers)"
   ]
  },
  {
   "cell_type": "markdown",
   "id": "61bde3da-d0b4-4f7d-9664-1a329fd1dced",
   "metadata": {},
   "source": [
    "## 5. Visualization with Outlier Labels\n",
    "\n",
    "Below is a boxplot of the booth signup counts per troop. In addition, we overlay a stripplot (jittered points) for each troop and label the outlier points with the corresponding troop number."
   ]
  },
  {
   "cell_type": "code",
   "execution_count": null,
   "id": "ed550a38-2a5d-46b7-b96c-2e4f54b0aaca",
   "metadata": {},
   "outputs": [
    {
     "data": {
      "image/png": "[encoded data removed]",
      "text/plain": [
       "<Figure size 1000x600 with 1 Axes>"
      ]
     },
     "metadata": {},
     "output_type": "display_data"
    }
   ],
   "source": [
    "plt.figure(figsize=(10,6))\n",
    "\n",
    "# Create a boxplot of the booth signup counts\n",
    "ax = sns.boxplot(x='Num_Booths', data=troop_counts, color='lightblue')\n",
    "\n",
    "# Overlay a stripplot of individual troop counts\n",
    "sns.stripplot(x='Num_Booths', data=troop_counts, color='darkred', size=8, jitter=True, ax=ax)\n",
    "\n",
    "# Annotate outliers with their Troop number\n",
    "for index, row in troop_counts.iterrows():\n",
    "    if row['Num_Booths'] < lower_bound or row['Num_Booths'] > upper_bound:\n",
    "        # The y-value: use a slight vertical offset (here 0) because stripplot adds jitter.\n",
    "        ax.text(row['Num_Booths'], 0.02, str(row['Troop']), horizontalalignment='center',\n",
    "                color='black', weight='bold', fontsize=10)\n",
    "\n",
    "plt.title('Distribution of Booth Signup Events per Troop (Outliers Labeled)')\n",
    "plt.xlabel('Number of Booth Signups')\n",
    "plt.show()"
   ]
  },
  {
   "cell_type": "markdown",
   "id": "acda6ea6-2f9e-4e27-8d5f-c86d18bd0316",
   "metadata": {},
   "source": [
    "## 6. Save the Summary Data\n",
    "\n",
    "Finally, we save the aggregated summary (the number of booth signup events per troop) to a CSV file for further use."
   ]
  },
  {
   "cell_type": "code",
   "execution_count": 7,
   "id": "d0e739d9-c2d7-4d61-9326-4b5eae8f5c93",
   "metadata": {},
   "outputs": [
    {
     "name": "stdout",
     "output_type": "stream",
     "text": [
      "Summary data saved to troop_booth_summary.csv\n"
     ]
    }
   ],
   "source": [
    "output_file = 'troop_booth_summary.csv'\n",
    "troop_counts.to_csv(output_file, index=False)\n",
    "print(f\"Summary data saved to {output_file}\")"
   ]
  },
  {
   "cell_type": "markdown",
   "id": "9f5f1363-9d49-4c46-b43d-cb53426a670e",
   "metadata": {},
   "source": [
    "## Conclusion\n",
    "\n",
    "In this notebook we have:\n",
    "\n",
    "- Loaded the troop booth signup data from `data/2025_booth_signups_trimmed.csv`\n",
    "- Prepared the data by converting time fields to datetime\n",
    "- Aggregated the data to compute the number of signup events per troop\n",
    "- Computed descriptive statistics and used the IQR method to identify potential outliers\n",
    "- Visualized the distribution with a boxplot and overlayed a stripplot, labeling the outlier troops with their troop numbers\n",
    "- Saved the aggregated summary to a CSV file\n",
    "\n",
    "Feel free to extend or modify this analysis as needed."
   ]
  }
 ],
 "metadata": {
  "kernelspec": {
   "display_name": "az-cactus-pine-data--88GyGCD-py3.13",
   "language": "python",
   "name": "python3"
  },
  "language_info": {
   "codemirror_mode": {
    "name": "ipython",
    "version": 3
   },
   "file_extension": ".py",
   "mimetype": "text/x-python",
   "name": "python",
   "nbconvert_exporter": "python",
   "pygments_lexer": "ipython3",
   "version": "3.13.1"
  }
 },
 "nbformat": 4,
 "nbformat_minor": 5
}
