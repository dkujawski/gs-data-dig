{
 "cells": [
  {
   "cell_type": "markdown",
   "id": "fd77ec54-9a84-4f2d-bd5d-7c88092d3a30",
   "metadata": {},
   "source": [
    "# Troop Booth Signups Analysis\n",
    "\n",
    "This notebook loads a CSV file containing troop booth signup events and performs general statistical analysis with a focus on the number of booths (i.e. signup events) per troop. In addition, it identifies potential outliers in the number of booth signups per troop.\n",
    "\n",
    "The source data is assumed to have the following columns:\n",
    "\n",
    "- **Troop**\n",
    "- **Troop Email**\n",
    "- **Slot Start Time**\n",
    "- **Slot End Time**\n",
    "- **When Selected Date**\n",
    "- **When Selected Time**\n",
    "- **User Selecting**\n",
    "\n",
    "Adjust the file path if needed."
   ]
  },
  {
   "cell_type": "code",
   "execution_count": 3,
   "id": "fbf0890f-f2e1-4a0d-9d64-2a9c0a171f71",
   "metadata": {},
   "outputs": [],
   "source": [
    "import pandas as pd\n",
    "import numpy as np\n",
    "import matplotlib.pyplot as plt\n",
    "import seaborn as sns\n",
    "\n",
    "# Set up plotting style\n",
    "sns.set(style=\"whitegrid\")\n",
    "plt.rcParams['figure.figsize'] = (10, 6)"
   ]
  },
  {
   "cell_type": "markdown",
   "id": "0d5c2a55-6f1e-4d27-9b2d-86462b86472f",
   "metadata": {},
   "source": [
    "## 1. Load the Data\n",
    "\n",
    "The data file is assumed to be stored as `data/troop_booth_signups.csv` (adjust the file path as needed). We assume the file has a header."
   ]
  },
  {
   "cell_type": "code",
   "execution_count": 4,
   "id": "83e534e5-c2b9-4d05-a56c-fd2c4e3f16a4",
   "metadata": {},
   "outputs": [
    {
     "data": {
      "text/html": [
       "<div>\n",
       "<style scoped>\n",
       "    .dataframe tbody tr th:only-of-type {\n",
       "        vertical-align: middle;\n",
       "    }\n",
       "\n",
       "    .dataframe tbody tr th {\n",
       "        vertical-align: top;\n",
       "    }\n",
       "\n",
       "    .dataframe thead th {\n",
       "        text-align: right;\n",
       "    }\n",
       "</style>\n",
       "<table border=\"1\" class=\"dataframe\">\n",
       "  <thead>\n",
       "    <tr style=\"text-align: right;\">\n",
       "      <th></th>\n",
       "      <th>Troop</th>\n",
       "      <th>Troop Email</th>\n",
       "      <th>Slot Start Time</th>\n",
       "      <th>Slot End Time</th>\n",
       "      <th>When Selected Date</th>\n",
       "      <th>When Selected Time</th>\n",
       "      <th>User Selecting</th>\n",
       "    </tr>\n",
       "  </thead>\n",
       "  <tbody>\n",
       "    <tr>\n",
       "      <th>0</th>\n",
       "      <td>3822</td>\n",
       "      <td>naldaz08@yahoo.com</td>\n",
       "      <td>2000/01/01 14:00:00</td>\n",
       "      <td>2000/01/01 16:00:00</td>\n",
       "      <td>2025/01/16 20:14:31</td>\n",
       "      <td>2025/01/16 20:14:31</td>\n",
       "      <td>naldaz08@yahoo.com</td>\n",
       "    </tr>\n",
       "    <tr>\n",
       "      <th>1</th>\n",
       "      <td>3822</td>\n",
       "      <td>naldaz08@yahoo.com</td>\n",
       "      <td>2000/01/01 16:00:00</td>\n",
       "      <td>2000/01/01 18:00:00</td>\n",
       "      <td>2025/01/16 20:14:31</td>\n",
       "      <td>2025/01/16 20:14:31</td>\n",
       "      <td>naldaz08@yahoo.com</td>\n",
       "    </tr>\n",
       "    <tr>\n",
       "      <th>2</th>\n",
       "      <td>3065</td>\n",
       "      <td>j.savage13@hotmail.com</td>\n",
       "      <td>2000/01/01 10:00:00</td>\n",
       "      <td>2000/01/01 12:00:00</td>\n",
       "      <td>2025/01/14 20:02:38</td>\n",
       "      <td>2025/01/14 20:02:38</td>\n",
       "      <td>kaitlyn.redfield@gmail.com</td>\n",
       "    </tr>\n",
       "    <tr>\n",
       "      <th>3</th>\n",
       "      <td>3065</td>\n",
       "      <td>j.savage13@hotmail.com</td>\n",
       "      <td>2000/01/01 14:00:00</td>\n",
       "      <td>2000/01/01 16:00:00</td>\n",
       "      <td>2025/01/14 20:03:02</td>\n",
       "      <td>2025/01/14 20:03:02</td>\n",
       "      <td>kaitlyn.redfield@gmail.com</td>\n",
       "    </tr>\n",
       "    <tr>\n",
       "      <th>4</th>\n",
       "      <td>3799</td>\n",
       "      <td>azchesko@gmail.com</td>\n",
       "      <td>2000/01/01 10:00:00</td>\n",
       "      <td>2000/01/01 12:00:00</td>\n",
       "      <td>2025/01/14 20:02:12</td>\n",
       "      <td>2025/01/14 20:02:12</td>\n",
       "      <td>azchesko@gmail.com</td>\n",
       "    </tr>\n",
       "  </tbody>\n",
       "</table>\n",
       "</div>"
      ],
      "text/plain": [
       "   Troop             Troop Email      Slot Start Time        Slot End Time  \\\n",
       "0   3822      naldaz08@yahoo.com  2000/01/01 14:00:00  2000/01/01 16:00:00   \n",
       "1   3822      naldaz08@yahoo.com  2000/01/01 16:00:00  2000/01/01 18:00:00   \n",
       "2   3065  j.savage13@hotmail.com  2000/01/01 10:00:00  2000/01/01 12:00:00   \n",
       "3   3065  j.savage13@hotmail.com  2000/01/01 14:00:00  2000/01/01 16:00:00   \n",
       "4   3799      azchesko@gmail.com  2000/01/01 10:00:00  2000/01/01 12:00:00   \n",
       "\n",
       "    When Selected Date   When Selected Time              User Selecting  \n",
       "0  2025/01/16 20:14:31  2025/01/16 20:14:31          naldaz08@yahoo.com  \n",
       "1  2025/01/16 20:14:31  2025/01/16 20:14:31          naldaz08@yahoo.com  \n",
       "2  2025/01/14 20:02:38  2025/01/14 20:02:38  kaitlyn.redfield@gmail.com  \n",
       "3  2025/01/14 20:03:02  2025/01/14 20:03:02  kaitlyn.redfield@gmail.com  \n",
       "4  2025/01/14 20:02:12  2025/01/14 20:02:12          azchesko@gmail.com  "
      ]
     },
     "execution_count": 4,
     "metadata": {},
     "output_type": "execute_result"
    }
   ],
   "source": [
    "# Change the file path as needed\n",
    "data_file = 'data/2025_booth_signups_unit_trimmed.csv'\n",
    "\n",
    "# Load the CSV file\n",
    "df = pd.read_csv(data_file)\n",
    "\n",
    "# Display the first few rows\n",
    "df.head()"
   ]
  },
  {
   "cell_type": "markdown",
   "id": "eaa58d27-9a5c-44d3-9c75-2fb03ce3e174",
   "metadata": {},
   "source": [
    "## 2. Data Preparation\n",
    "\n",
    "In this section we:\n",
    "\n",
    "- Convert the time columns to datetime objects.\n",
    "- (Optionally) combine date and time if needed.\n",
    "  \n",
    "For our analysis, we will focus on the number of signup events per troop. (In this dataset each row represents one booth signup event.)"
   ]
  },
  {
   "cell_type": "code",
   "execution_count": 5,
   "id": "cdb20fd0-6bb8-429b-a7d3-610d31ddbe32",
   "metadata": {},
   "outputs": [
    {
     "name": "stdout",
     "output_type": "stream",
     "text": [
      "<class 'pandas.core.frame.DataFrame'>\n",
      "RangeIndex: 510 entries, 0 to 509\n",
      "Data columns (total 7 columns):\n",
      " #   Column              Non-Null Count  Dtype         \n",
      "---  ------              --------------  -----         \n",
      " 0   Troop               510 non-null    int64         \n",
      " 1   Troop Email         510 non-null    object        \n",
      " 2   Slot Start Time     510 non-null    datetime64[ns]\n",
      " 3   Slot End Time       510 non-null    datetime64[ns]\n",
      " 4   When Selected Date  507 non-null    datetime64[ns]\n",
      " 5   When Selected Time  507 non-null    datetime64[ns]\n",
      " 6   User Selecting      510 non-null    object        \n",
      "dtypes: datetime64[ns](4), int64(1), object(2)\n",
      "memory usage: 28.0+ KB\n"
     ]
    }
   ],
   "source": [
    "# Convert time columns to datetime\n",
    "df['Slot Start Time'] = pd.to_datetime(df['Slot Start Time'], format='%Y/%m/%d %H:%M:%S', errors='coerce')\n",
    "df['Slot End Time'] = pd.to_datetime(df['Slot End Time'], format='%Y/%m/%d %H:%M:%S', errors='coerce')\n",
    "\n",
    "# Optionally, convert When Selected Date and Time if needed\n",
    "df['When Selected Date'] = pd.to_datetime(df['When Selected Date'], format='%Y/%m/%d %H:%M:%S', errors='coerce')\n",
    "df['When Selected Time'] = pd.to_datetime(df['When Selected Time'], format='%Y/%m/%d %H:%M:%S', errors='coerce')\n",
    "\n",
    "# Check the data types\n",
    "df.info()"
   ]
  },
  {
   "cell_type": "markdown",
   "id": "93f26b47-1c15-4a10-97f2-2196c15ad56a",
   "metadata": {},
   "source": [
    "## 3. Statistical Summary Per Troop\n",
    "\n",
    "We want to see how many booth signup events each troop has. We will group by the **Troop** column and count the number of rows (each representing one booth signup event). Then we compute descriptive statistics (mean, median, standard deviation, etc.) and also create a boxplot to help identify outliers."
   ]
  },
  {
   "cell_type": "code",
   "execution_count": 6,
   "id": "ed7adfb8-453f-4713-93b8-1833c3e8a5da",
   "metadata": {},
   "outputs": [
    {
     "name": "stdout",
     "output_type": "stream",
     "text": [
      "Booth signup counts per troop:\n",
      "    Troop  Num_Booths\n",
      "20   3829          85\n",
      "0     872          68\n",
      "16   3822          59\n",
      "21   3839          31\n",
      "12   3475          29\n",
      "6    2820          22\n",
      "7    2877          20\n",
      "15   3819          19\n",
      "11   3315          19\n",
      "8    3065          18\n",
      "17   3824          16\n",
      "9    3296          16\n",
      "22   3997          16\n",
      "13   3630          13\n",
      "1    2554          11\n",
      "23   4208          11\n",
      "19   3828          10\n",
      "24   7223           9\n",
      "14   3799           8\n",
      "5    2674           8\n",
      "10   3312           6\n",
      "4    2626           5\n",
      "25   9670           4\n",
      "3    2603           3\n",
      "18   3827           3\n",
      "2    2570           1\n",
      "\n",
      "Descriptive statistics for booth signups per troop:\n",
      "count    26.000000\n",
      "mean     19.615385\n",
      "std      20.632163\n",
      "min       1.000000\n",
      "25%       8.000000\n",
      "50%      14.500000\n",
      "75%      19.750000\n",
      "max      85.000000\n",
      "Name: Num_Booths, dtype: float64\n"
     ]
    }
   ],
   "source": [
    "# Group by Troop and count the number of booth signup events per troop\n",
    "troop_counts = df.groupby('Troop').size().reset_index(name='Num_Booths')\n",
    "\n",
    "# Display the summary\n",
    "troop_counts.sort_values('Num_Booths', ascending=False, inplace=True)\n",
    "print(\"Booth signup counts per troop:\")\n",
    "print(troop_counts)\n",
    "\n",
    "# Get descriptive statistics for booth counts\n",
    "desc_stats = troop_counts['Num_Booths'].describe()\n",
    "print(\"\\nDescriptive statistics for booth signups per troop:\")\n",
    "print(desc_stats)"
   ]
  },
  {
   "cell_type": "markdown",
   "id": "5dd83390-2ef4-42ed-93b0-d4437bf96cdb",
   "metadata": {},
   "source": [
    "## 4. Outlier Detection\n",
    "\n",
    "We can use the Interquartile Range (IQR) method to detect potential outliers in the number of booth signups per troop. Outliers are typically defined as values below Q1 - 1.5*IQR or above Q3 + 1.5*IQR."
   ]
  },
  {
   "cell_type": "code",
   "execution_count": 7,
   "id": "41b99e1b-d9d4-4d3c-9fd4-b5df3ddab9a5",
   "metadata": {},
   "outputs": [
    {
     "name": "stdout",
     "output_type": "stream",
     "text": [
      "Q1: 8.0, Q3: 19.75, IQR: 11.75\n",
      "Lower bound: -9.625, Upper bound: 37.375\n",
      "\n",
      "Outlier troops (based on booth signup counts):\n",
      "    Troop  Num_Booths\n",
      "20   3829          85\n",
      "0     872          68\n",
      "16   3822          59\n"
     ]
    }
   ],
   "source": [
    "Q1 = troop_counts['Num_Booths'].quantile(0.25)\n",
    "Q3 = troop_counts['Num_Booths'].quantile(0.75)\n",
    "IQR = Q3 - Q1\n",
    "\n",
    "lower_bound = Q1 - 1.5 * IQR\n",
    "upper_bound = Q3 + 1.5 * IQR\n",
    "\n",
    "print(f\"Q1: {Q1}, Q3: {Q3}, IQR: {IQR}\")\n",
    "print(f\"Lower bound: {lower_bound}, Upper bound: {upper_bound}\")\n",
    "\n",
    "# Identify outliers\n",
    "outliers = troop_counts[(troop_counts['Num_Booths'] < lower_bound) | (troop_counts['Num_Booths'] > upper_bound)]\n",
    "print(\"\\nOutlier troops (based on booth signup counts):\")\n",
    "print(outliers)"
   ]
  },
  {
   "cell_type": "markdown",
   "id": "6c2ea6de-313d-4a1e-9d26-10ed8d48bbad",
   "metadata": {},
   "source": [
    "## 5. Visualization\n",
    "\n",
    "Below is a boxplot of the booth signup counts per troop. This visualization helps in identifying outliers and understanding the spread of the data."
   ]
  },
  {
   "cell_type": "code",
   "execution_count": 8,
   "id": "4bda3f98-66aa-44cc-92a6-02ad5fd707b0",
   "metadata": {},
   "outputs": [
    {
     "data": {
      "image/png": "[encoded data removed]",
      "text/plain": [
       "<Figure size 800x600 with 1 Axes>"
      ]
     },
     "metadata": {},
     "output_type": "display_data"
    }
   ],
   "source": [
    "plt.figure(figsize=(8,6))\n",
    "sns.boxplot(x=troop_counts['Num_Booths'])\n",
    "plt.title('Distribution of Booth Signup Events per Troop')\n",
    "plt.xlabel('Number of Booth Signups')\n",
    "plt.show()"
   ]
  },
  {
   "cell_type": "markdown",
   "id": "5f2c0d0a-8e35-4ac3-bb40-d3dcda53b4a8",
   "metadata": {},
   "source": [
    "## 6. Save the Summary Data\n",
    "\n",
    "Finally, we save the aggregated summary (booth signup counts per troop) to a new CSV file for further reporting or analysis."
   ]
  },
  {
   "cell_type": "code",
   "execution_count": 9,
   "id": "a9b26dd1-96c8-4fdf-82a1-997e4bd9904b",
   "metadata": {},
   "outputs": [
    {
     "name": "stdout",
     "output_type": "stream",
     "text": [
      "Summary data saved to troop_booth_summary.csv\n"
     ]
    }
   ],
   "source": [
    "output_file = 'troop_booth_summary.csv'\n",
    "troop_counts.to_csv(output_file, index=False)\n",
    "print(f\"Summary data saved to {output_file}\")"
   ]
  },
  {
   "cell_type": "markdown",
   "id": "a033fdc4-d741-4834-8c8d-0b9c187a8d4e",
   "metadata": {},
   "source": [
    "## Conclusion\n",
    "\n",
    "This notebook has loaded the troop booth signup data, computed the number of signup events per troop, generated descriptive statistics, and used a boxplot along with the IQR method to identify potential outliers. The aggregated summary has also been saved to a CSV file for further use.\n",
    "\n",
    "Feel free to modify or extend this analysis as needed."
   ]
  }
 ],
 "metadata": {
  "kernelspec": {
   "display_name": "az-cactus-pine-data--88GyGCD-py3.13",
   "language": "python",
   "name": "python3"
  },
  "language_info": {
   "codemirror_mode": {
    "name": "ipython",
    "version": 3
   },
   "file_extension": ".py",
   "mimetype": "text/x-python",
   "name": "python",
   "nbconvert_exporter": "python",
   "pygments_lexer": "ipython3",
   "version": "3.13.1"
  }
 },
 "nbformat": 4,
 "nbformat_minor": 5
}
