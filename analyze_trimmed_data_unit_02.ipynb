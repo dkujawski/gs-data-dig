{
 "cells": [
  {
   "cell_type": "markdown",
   "id": "f1a7b736-4f80-4db3-b28b-d5b861829c16",
   "metadata": {},
   "source": [
    "# Troop Booth Signups Analysis\n",
    "\n",
    "This notebook loads data from `data/2025_booth_signups_trimmed.csv` (which contains columns such as **Troop**, **Troop Email**, **Slot Start Time**, **Slot End Time**, **When Selected Date**, **When Selected Time**, **User Selecting**) and performs statistical analysis focused on the number of booth signup events per troop. In addition, the notebook identifies and labels potential outliers in the distribution of booth signup counts."
   ]
  },
  {
   "cell_type": "code",
   "execution_count": 3,
   "id": "23d9686e-0ef3-4e7f-92c7-5b3d299750c1",
   "metadata": {},
   "outputs": [],
   "source": [
    "import pandas as pd\n",
    "import numpy as np\n",
    "import matplotlib.pyplot as plt\n",
    "import seaborn as sns\n",
    "\n",
    "# Set up plotting style\n",
    "sns.set(style=\"whitegrid\")\n",
    "plt.rcParams['figure.figsize'] = (10, 6)"
   ]
  },
  {
   "cell_type": "markdown",
   "id": "a1a5c4fd-76ec-46ee-a42a-32d6b7db2c9b",
   "metadata": {},
   "source": [
    "## 1. Load the Data\n",
    "\n",
    "The data file is located at `data/2025_booth_signups_trimmed.csv`. It is assumed that the file has a header with the following columns:\n",
    "\n",
    "- Troop\n",
    "- Troop Email\n",
    "- Slot Start Time\n",
    "- Slot End Time\n",
    "- When Selected Date\n",
    "- When Selected Time\n",
    "- User Selecting\n",
    "\n",
    "Let's load the data into a pandas DataFrame."
   ]
  },
  {
   "cell_type": "code",
   "execution_count": 4,
   "id": "6f8ed3f3-7f1d-47b7-8b7f-64d1927c576b",
   "metadata": {},
   "outputs": [
    {
     "name": "stdout",
     "output_type": "stream",
     "text": [
      "Data preview:\n"
     ]
    },
    {
     "data": {
      "text/html": [
       "<div>\n",
       "<style scoped>\n",
       "    .dataframe tbody tr th:only-of-type {\n",
       "        vertical-align: middle;\n",
       "    }\n",
       "\n",
       "    .dataframe tbody tr th {\n",
       "        vertical-align: top;\n",
       "    }\n",
       "\n",
       "    .dataframe thead th {\n",
       "        text-align: right;\n",
       "    }\n",
       "</style>\n",
       "<table border=\"1\" class=\"dataframe\">\n",
       "  <thead>\n",
       "    <tr style=\"text-align: right;\">\n",
       "      <th></th>\n",
       "      <th>Troop</th>\n",
       "      <th>Troop Email</th>\n",
       "      <th>Slot Start Time</th>\n",
       "      <th>Slot End Time</th>\n",
       "      <th>When Selected Date</th>\n",
       "      <th>When Selected Time</th>\n",
       "      <th>User Selecting</th>\n",
       "    </tr>\n",
       "  </thead>\n",
       "  <tbody>\n",
       "    <tr>\n",
       "      <th>0</th>\n",
       "      <td>3822</td>\n",
       "      <td>naldaz08@yahoo.com</td>\n",
       "      <td>2000/01/01 14:00:00</td>\n",
       "      <td>2000/01/01 16:00:00</td>\n",
       "      <td>2025/01/16 20:14:31</td>\n",
       "      <td>2025/01/16 20:14:31</td>\n",
       "      <td>naldaz08@yahoo.com</td>\n",
       "    </tr>\n",
       "    <tr>\n",
       "      <th>1</th>\n",
       "      <td>3822</td>\n",
       "      <td>naldaz08@yahoo.com</td>\n",
       "      <td>2000/01/01 16:00:00</td>\n",
       "      <td>2000/01/01 18:00:00</td>\n",
       "      <td>2025/01/16 20:14:31</td>\n",
       "      <td>2025/01/16 20:14:31</td>\n",
       "      <td>naldaz08@yahoo.com</td>\n",
       "    </tr>\n",
       "    <tr>\n",
       "      <th>2</th>\n",
       "      <td>3065</td>\n",
       "      <td>j.savage13@hotmail.com</td>\n",
       "      <td>2000/01/01 10:00:00</td>\n",
       "      <td>2000/01/01 12:00:00</td>\n",
       "      <td>2025/01/14 20:02:38</td>\n",
       "      <td>2025/01/14 20:02:38</td>\n",
       "      <td>kaitlyn.redfield@gmail.com</td>\n",
       "    </tr>\n",
       "    <tr>\n",
       "      <th>3</th>\n",
       "      <td>3065</td>\n",
       "      <td>j.savage13@hotmail.com</td>\n",
       "      <td>2000/01/01 14:00:00</td>\n",
       "      <td>2000/01/01 16:00:00</td>\n",
       "      <td>2025/01/14 20:03:02</td>\n",
       "      <td>2025/01/14 20:03:02</td>\n",
       "      <td>kaitlyn.redfield@gmail.com</td>\n",
       "    </tr>\n",
       "    <tr>\n",
       "      <th>4</th>\n",
       "      <td>3799</td>\n",
       "      <td>azchesko@gmail.com</td>\n",
       "      <td>2000/01/01 10:00:00</td>\n",
       "      <td>2000/01/01 12:00:00</td>\n",
       "      <td>2025/01/14 20:02:12</td>\n",
       "      <td>2025/01/14 20:02:12</td>\n",
       "      <td>azchesko@gmail.com</td>\n",
       "    </tr>\n",
       "  </tbody>\n",
       "</table>\n",
       "</div>"
      ],
      "text/plain": [
       "   Troop             Troop Email      Slot Start Time        Slot End Time  \\\n",
       "0   3822      naldaz08@yahoo.com  2000/01/01 14:00:00  2000/01/01 16:00:00   \n",
       "1   3822      naldaz08@yahoo.com  2000/01/01 16:00:00  2000/01/01 18:00:00   \n",
       "2   3065  j.savage13@hotmail.com  2000/01/01 10:00:00  2000/01/01 12:00:00   \n",
       "3   3065  j.savage13@hotmail.com  2000/01/01 14:00:00  2000/01/01 16:00:00   \n",
       "4   3799      azchesko@gmail.com  2000/01/01 10:00:00  2000/01/01 12:00:00   \n",
       "\n",
       "    When Selected Date   When Selected Time              User Selecting  \n",
       "0  2025/01/16 20:14:31  2025/01/16 20:14:31          naldaz08@yahoo.com  \n",
       "1  2025/01/16 20:14:31  2025/01/16 20:14:31          naldaz08@yahoo.com  \n",
       "2  2025/01/14 20:02:38  2025/01/14 20:02:38  kaitlyn.redfield@gmail.com  \n",
       "3  2025/01/14 20:03:02  2025/01/14 20:03:02  kaitlyn.redfield@gmail.com  \n",
       "4  2025/01/14 20:02:12  2025/01/14 20:02:12          azchesko@gmail.com  "
      ]
     },
     "execution_count": 4,
     "metadata": {},
     "output_type": "execute_result"
    }
   ],
   "source": [
    "# Define the path to the data file\n",
    "data_file = 'data/2025_booth_signups_unit_trimmed.csv'\n",
    "\n",
    "# Load the CSV file (with header)\n",
    "df = pd.read_csv(data_file)\n",
    "\n",
    "# Display the first few rows\n",
    "print(\"Data preview:\")\n",
    "df.head()"
   ]
  },
  {
   "cell_type": "markdown",
   "id": "a1f51d05-2a4a-43f8-9025-57a4c3d3e2d5",
   "metadata": {},
   "source": [
    "## 2. Data Preparation\n",
    "\n",
    "We will convert the time columns to datetime objects. (Note: The sample times use a format like `2000/01/01 14:00:00`, which we assume is consistent for the time fields.)\n",
    "\n",
    "In our analysis we focus on counting the number of booth signup events per troop (each row is one event)."
   ]
  },
  {
   "cell_type": "code",
   "execution_count": 5,
   "id": "d46f7d24-8d3e-4241-bda3-9e4a8b0b7689",
   "metadata": {},
   "outputs": [
    {
     "name": "stdout",
     "output_type": "stream",
     "text": [
      "<class 'pandas.core.frame.DataFrame'>\n",
      "RangeIndex: 510 entries, 0 to 509\n",
      "Data columns (total 7 columns):\n",
      " #   Column              Non-Null Count  Dtype         \n",
      "---  ------              --------------  -----         \n",
      " 0   Troop               510 non-null    int64         \n",
      " 1   Troop Email         510 non-null    object        \n",
      " 2   Slot Start Time     510 non-null    datetime64[ns]\n",
      " 3   Slot End Time       510 non-null    datetime64[ns]\n",
      " 4   When Selected Date  507 non-null    datetime64[ns]\n",
      " 5   When Selected Time  507 non-null    datetime64[ns]\n",
      " 6   User Selecting      510 non-null    object        \n",
      "dtypes: datetime64[ns](4), int64(1), object(2)\n",
      "memory usage: 28.0+ KB\n"
     ]
    }
   ],
   "source": [
    "# Convert time columns to datetime objects\n",
    "df['Slot Start Time'] = pd.to_datetime(df['Slot Start Time'], format='%Y/%m/%d %H:%M:%S', errors='coerce')\n",
    "df['Slot End Time']   = pd.to_datetime(df['Slot End Time'], format='%Y/%m/%d %H:%M:%S', errors='coerce')\n",
    "\n",
    "# If desired, you can also convert the When Selected Date and When Selected Time\n",
    "df['When Selected Date'] = pd.to_datetime(df['When Selected Date'], format='%Y/%m/%d %H:%M:%S', errors='coerce')\n",
    "df['When Selected Time'] = pd.to_datetime(df['When Selected Time'], format='%Y/%m/%d %H:%M:%S', errors='coerce')\n",
    "\n",
    "# Check the data types\n",
    "df.info()"
   ]
  },
  {
   "cell_type": "markdown",
   "id": "7e99b45e-8c39-4a68-aea0-2f5e1da0e4a0",
   "metadata": {},
   "source": [
    "## 3. Aggregating Booth Signups per Troop\n",
    "\n",
    "Since each row represents one booth signup event, we can count the number of events per troop by grouping on the **Troop** column."
   ]
  },
  {
   "cell_type": "code",
   "execution_count": 6,
   "id": "91b7a8f3-56c3-42fa-8f66-94c0f0dbf4fa",
   "metadata": {},
   "outputs": [
    {
     "name": "stdout",
     "output_type": "stream",
     "text": [
      "Booth signup counts per troop:\n",
      "    Troop  Num_Booths\n",
      "20   3829          85\n",
      "0     872          68\n",
      "16   3822          59\n",
      "21   3839          31\n",
      "12   3475          29\n",
      "6    2820          22\n",
      "7    2877          20\n",
      "15   3819          19\n",
      "11   3315          19\n",
      "8    3065          18\n",
      "17   3824          16\n",
      "9    3296          16\n",
      "22   3997          16\n",
      "13   3630          13\n",
      "1    2554          11\n",
      "23   4208          11\n",
      "19   3828          10\n",
      "24   7223           9\n",
      "14   3799           8\n",
      "5    2674           8\n",
      "10   3312           6\n",
      "4    2626           5\n",
      "25   9670           4\n",
      "3    2603           3\n",
      "18   3827           3\n",
      "2    2570           1\n",
      "\n",
      "Descriptive statistics for booth signups per troop:\n",
      "count    26.000000\n",
      "mean     19.615385\n",
      "std      20.632163\n",
      "min       1.000000\n",
      "25%       8.000000\n",
      "50%      14.500000\n",
      "75%      19.750000\n",
      "max      85.000000\n",
      "Name: Num_Booths, dtype: float64\n"
     ]
    }
   ],
   "source": [
    "# Group by Troop and count the number of signup events per troop\n",
    "troop_counts = df.groupby('Troop').size().reset_index(name='Num_Booths')\n",
    "\n",
    "# Sort by number of booths (signup events)\n",
    "troop_counts.sort_values('Num_Booths', ascending=False, inplace=True)\n",
    "print(\"Booth signup counts per troop:\")\n",
    "print(troop_counts)\n",
    "\n",
    "# Compute descriptive statistics\n",
    "desc_stats = troop_counts['Num_Booths'].describe()\n",
    "print(\"\\nDescriptive statistics for booth signups per troop:\")\n",
    "print(desc_stats)"
   ]
  },
  {
   "cell_type": "markdown",
   "id": "97293e2d-9345-4ee8-b239-bdc2775f4d45",
   "metadata": {},
   "source": [
    "## 4. Outlier Detection\n",
    "\n",
    "We use the Interquartile Range (IQR) method to identify potential outliers in the number of booth signup events per troop.\n",
    "\n",
    "An outlier is defined as a troop whose count is below Q1 - 1.5×IQR or above Q3 + 1.5×IQR."
   ]
  },
  {
   "cell_type": "code",
   "execution_count": 7,
   "id": "8bf445b8-7d91-4a3b-a7f0-5de16ce14cf3",
   "metadata": {},
   "outputs": [
    {
     "name": "stdout",
     "output_type": "stream",
     "text": [
      "Q1: 8.0, Q3: 19.75, IQR: 11.75\n",
      "Lower bound: -9.625, Upper bound: 37.375\n",
      "\n",
      "Outlier troops (by number of booth signups):\n",
      "    Troop  Num_Booths\n",
      "20   3829          85\n",
      "0     872          68\n",
      "16   3822          59\n"
     ]
    }
   ],
   "source": [
    "Q1 = troop_counts['Num_Booths'].quantile(0.25)\n",
    "Q3 = troop_counts['Num_Booths'].quantile(0.75)\n",
    "IQR = Q3 - Q1\n",
    "\n",
    "lower_bound = Q1 - 1.5 * IQR\n",
    "upper_bound = Q3 + 1.5 * IQR\n",
    "\n",
    "print(f\"Q1: {Q1}, Q3: {Q3}, IQR: {IQR}\")\n",
    "print(f\"Lower bound: {lower_bound}, Upper bound: {upper_bound}\")\n",
    "\n",
    "# Identify outlier troops\n",
    "outliers = troop_counts[(troop_counts['Num_Booths'] < lower_bound) | (troop_counts['Num_Booths'] > upper_bound)]\n",
    "print(\"\\nOutlier troops (by number of booth signups):\")\n",
    "print(outliers)"
   ]
  },
  {
   "cell_type": "markdown",
   "id": "61bde3da-d0b4-4f7d-9664-1a329fd1dced",
   "metadata": {},
   "source": [
    "## 5. Visualization with Outlier Labels\n",
    "\n",
    "Below is a boxplot of the booth signup counts per troop. In addition, we overlay a stripplot (jittered points) for each troop and label the outlier points with the corresponding troop number."
   ]
  },
  {
   "cell_type": "code",
   "execution_count": 8,
   "id": "ed550a38-2a5d-46b7-b96c-2e4f54b0aaca",
   "metadata": {},
   "outputs": [
    {
     "data": {
      "image/png": "[encoded data removed]",
      "text/plain": [
       "<Figure size 1000x600 with 1 Axes>"
      ]
     },
     "metadata": {},
     "output_type": "display_data"
    }
   ],
   "source": [
    "plt.figure(figsize=(10,6))\n",
    "\n",
    "# Create a boxplot of the booth signup counts\n",
    "ax = sns.boxplot(x='Num_Booths', data=troop_counts, color='lightblue')\n",
    "\n",
    "# Overlay a stripplot of individual troop counts\n",
    "sns.stripplot(x='Num_Booths', data=troop_counts, color='darkred', size=8, jitter=True, ax=ax)\n",
    "\n",
    "# Annotate outliers with their Troop number\n",
    "for index, row in troop_counts.iterrows():\n",
    "    if row['Num_Booths'] < lower_bound or row['Num_Booths'] > upper_bound:\n",
    "        # The y-value: use a slight vertical offset (here 0) because stripplot adds jitter.\n",
    "        ax.text(row['Num_Booths'], 0.02, str(row['Troop']), horizontalalignment='center',\n",
    "                color='black', weight='bold', fontsize=10)\n",
    "\n",
    "plt.title('Distribution of Booth Signup Events per Troop (Outliers Labeled)')\n",
    "plt.xlabel('Number of Booth Signups')\n",
    "plt.show()"
   ]
  },
  {
   "cell_type": "markdown",
   "id": "acda6ea6-2f9e-4e27-8d5f-c86d18bd0316",
   "metadata": {},
   "source": [
    "## 6. Save the Summary Data\n",
    "\n",
    "Finally, we save the aggregated summary (the number of booth signup events per troop) to a CSV file for further use."
   ]
  },
  {
   "cell_type": "code",
   "execution_count": 9,
   "id": "d0e739d9-c2d7-4d61-9326-4b5eae8f5c93",
   "metadata": {},
   "outputs": [
    {
     "name": "stdout",
     "output_type": "stream",
     "text": [
      "Summary data saved to troop_booth_summary.csv\n"
     ]
    }
   ],
   "source": [
    "output_file = 'troop_booth_summary.csv'\n",
    "troop_counts.to_csv(output_file, index=False)\n",
    "print(f\"Summary data saved to {output_file}\")"
   ]
  },
  {
   "cell_type": "markdown",
   "id": "9f5f1363-9d49-4c46-b43d-cb53426a670e",
   "metadata": {},
   "source": [
    "## Conclusion\n",
    "\n",
    "In this notebook we have:\n",
    "\n",
    "- Loaded the troop booth signup data from `data/2025_booth_signups_trimmed.csv`\n",
    "- Prepared the data by converting time fields to datetime\n",
    "- Aggregated the data to compute the number of signup events per troop\n",
    "- Computed descriptive statistics and used the IQR method to identify potential outliers\n",
    "- Visualized the distribution with a boxplot and overlayed a stripplot, labeling the outlier troops with their troop numbers\n",
    "- Saved the aggregated summary to a CSV file\n",
    "\n",
    "Feel free to extend or modify this analysis as needed."
   ]
  }
 ],
 "metadata": {
  "kernelspec": {
   "display_name": "az-cactus-pine-data--88GyGCD-py3.13",
   "language": "python",
   "name": "python3"
  },
  "language_info": {
   "codemirror_mode": {
    "name": "ipython",
    "version": 3
   },
   "file_extension": ".py",
   "mimetype": "text/x-python",
   "name": "python",
   "nbconvert_exporter": "python",
   "pygments_lexer": "ipython3",
   "version": "3.13.1"
  }
 },
 "nbformat": 4,
 "nbformat_minor": 5
}
