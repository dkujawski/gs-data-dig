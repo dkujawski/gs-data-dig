{
 "cells": [
  {
   "cell_type": "markdown",
   "id": "bcb5c9c4-148d-41b5-b965-0e9b7e1745ab",
   "metadata": {},
   "source": [
    "# Troop Booth Signups Analysis\n",
    "\n",
    "This notebook analyzes the troop booth signup data from the file **data/2025_booth_signups_trimmed.csv**. The analysis includes:\n",
    "\n",
    "- **Data Loading & Preparation:** Reading the CSV file and converting time columns to datetime objects.\n",
    "- **Aggregation & Descriptive Statistics:** Grouping by troop to count the number of signup events, computing summary statistics, and determining the interquartile range (IQR).\n",
    "- **Outlier Detection:** Defining outliers as troops with signup counts below Q1 - 1.5×IQR or above Q3 + 1.5×IQR.\n",
    "- **Visualization:** Creating a horizontal bar chart of the signup counts for all troops with horizontal reference lines for the thresholds and highlighting outlier troops in a distinct color.\n",
    "- **Report Summary:** A textual summary of the analysis and its significance.\n",
    "\n",
    "Each row in the data represents one booth signup event. The final chart and report help identify which troops are operating outside of the norm."
   ]
  },
  {
   "cell_type": "code",
   "id": "3bb42176-475f-4a9c-8605-9d8e1d160ee1",
   "metadata": {},
   "execution_count": null,
   "outputs": [],
   "source": [
    "import pandas as pd\n",
    "import numpy as np\n",
    "import matplotlib.pyplot as plt\n",
    "import seaborn as sns\n",
    "\n",
    "# Set up plotting style and figure size defaults\n",
    "sns.set(style=\"whitegrid\")\n",
    "plt.rcParams['figure.figsize'] = (10, 6)"
   ]
  },
  {
   "cell_type": "markdown",
   "id": "b9097b45-6452-443d-8a6c-d186a88b2dbe",
   "metadata": {},
   "source": [
    "## 1. Load the Data\n",
    "\n",
    "The data file is located at **data/2025_booth_signups_trimmed.csv**. It contains a header with the following columns:\n",
    "\n",
    "- **Troop**\n",
    "- **Troop Email**\n",
    "- **Slot Start Time**\n",
    "- **Slot End Time**\n",
    "- **When Selected Date**\n",
    "- **When Selected Time**\n",
    "- **User Selecting**\n",
    "\n",
    "Let's load the file into a DataFrame."
   ]
  },
  {
   "cell_type": "code",
   "id": "87d5f4c7-5208-4cf5-a52e-697e0e14e621",
   "metadata": {},
   "execution_count": null,
   "outputs": [],
   "source": [
    "# Define the data file path\n",
    "data_file = 'data/2025_booth_signups_trimmed.csv'\n",
    "\n",
    "# Load the CSV file (assuming it has headers)\n",
    "df = pd.read_csv(data_file)\n",
    "\n",
    "# Preview the data\n",
    "print(\"Data preview:\")\n",
    "df.head()"
   ]
  },
  {
   "cell_type": "markdown",
   "id": "273dba50-0e66-4d9a-8d89-d78f4a958b45",
   "metadata": {},
   "source": [
    "## 2. Data Preparation\n",
    "\n",
    "We convert the time columns to datetime objects. (The times in the file are formatted as `YYYY/MM/DD HH:MM:SS`.)\n",
    "\n",
    "For this analysis we focus on counting the number of signup events per troop."
   ]
  },
  {
   "cell_type": "code",
   "id": "5a38ee42-c16a-46a0-9f09-0b73b08ed008",
   "metadata": {},
   "execution_count": null,
   "outputs": [],
   "source": [
    "# Convert time columns to datetime objects\n",
    "df['Slot Start Time'] = pd.to_datetime(df['Slot Start Time'], format='%Y/%m/%d %H:%M:%S', errors='coerce')\n",
    "df['Slot End Time']   = pd.to_datetime(df['Slot End Time'], format='%Y/%m/%d %H:%M:%S', errors='coerce')\n",
    "\n",
    "# Convert the When Selected columns as well\n",
    "df['When Selected Date'] = pd.to_datetime(df['When Selected Date'], format='%Y/%m/%d %H:%M:%S', errors='coerce')\n",
    "df['When Selected Time'] = pd.to_datetime(df['When Selected Time'], format='%Y/%m/%d %H:%M:%S', errors='coerce')\n",
    "\n",
    "# Display DataFrame info to verify conversions\n",
    "df.info()"
   ]
  },
  {
   "cell_type": "markdown",
   "id": "2b3f6fc7-6f43-4b4f-9a14-7c3d79f5d308",
   "metadata": {},
   "source": [
    "## 3. Aggregation & Descriptive Statistics\n",
    "\n",
    "We count the number of booth signup events for each troop. Since each row represents one event, we group by the **Troop** column and count the rows. We then compute descriptive statistics and calculate the interquartile range (IQR) to determine the lower and upper thresholds for outlier detection."
   ]
  },
  {
   "cell_type": "code",
   "id": "820c4649-45df-44d3-a38f-8b47a700e4e9",
   "metadata": {},
   "execution_count": null,
   "outputs": [],
   "source": [
    "# Group by Troop and count the number of signup events\n",
    "troop_counts = df.groupby('Troop').size().reset_index(name='Num_Booths')\n",
    "\n",
    "# Sort the aggregated data by signup count\n",
    "troop_counts.sort_values('Num_Booths', ascending=False, inplace=True)\n",
    "print(\"Booth signup counts per troop:\")\n",
    "print(troop_counts)\n",
    "\n",
    "# Compute descriptive statistics\n",
    "desc_stats = troop_counts['Num_Booths'].describe()\n",
    "print(\"\\nDescriptive statistics:\")\n",
    "print(desc_stats)\n",
    "\n",
    "# Calculate quartiles and IQR\n",
    "Q1 = troop_counts['Num_Booths'].quantile(0.25)\n",
    "Q3 = troop_counts['Num_Booths'].quantile(0.75)\n",
    "IQR = Q3 - Q1\n",
    "\n",
    "lower_bound = Q1 - 1.5 * IQR\n",
    "upper_bound = Q3 + 1.5 * IQR\n",
    "\n",
    "print(f\"\\nQ1: {Q1}, Q3: {Q3}, IQR: {IQR}\")\n",
    "print(f\"Lower bound: {lower_bound}, Upper bound: {upper_bound}\")"
   ]
  },
  {
   "cell_type": "markdown",
   "id": "6f6608b1-8949-4349-9e66-7f2e61d4dfd5",
   "metadata": {},
   "source": [
    "## 4. Outlier Detection\n",
    "\n",
    "Using the IQR method, we define outliers as troops with signup counts below **lower_bound** or above **upper_bound**. We display these outliers."
   ]
  },
  {
   "cell_type": "code",
   "id": "4290a71a-7297-4b36-98c3-2e84c81a7d54",
   "metadata": {},
   "execution_count": null,
   "outputs": [],
   "source": [
    "# Identify outlier troops\n",
    "outliers = troop_counts[(troop_counts['Num_Booths'] < lower_bound) | (troop_counts['Num_Booths'] > upper_bound)]\n",
    "print(\"\\nOutlier troops (by number of booth signups):\")\n",
    "print(outliers)"
   ]
  },
  {
   "cell_type": "markdown",
   "id": "30d1d8a6-4aeb-4e12-aca0-5432a81f0b67",
   "metadata": {},
   "source": [
    "## 5. Bar Chart: All Troops with Outlier Highlighting\n",
    "\n",
    "The following bar chart displays the number of booth signup events for each troop. Outlier troops (as determined by the IQR thresholds) are color‑coded in red, while the other troops are shown in blue. Horizontal reference lines for the lower and upper bounds are also drawn."
   ]
  },
  {
   "cell_type": "code",
   "id": "e9f9b45b-2488-4c9e-9bd5-3f62055b75bf",
   "metadata": {},
   "execution_count": null,
   "outputs": [],
   "source": [
    "# Create a bar chart for all troops, highlighting outliers\n",
    "\n",
    "# Color code: red for outliers, blue for non-outliers\n",
    "colors = ['red' if (x < lower_bound or x > upper_bound) else 'blue' for x in troop_counts['Num_Booths']]\n",
    "\n",
    "plt.figure(figsize=(12,6))\n",
    "plt.bar(troop_counts['Troop'], troop_counts['Num_Booths'], color=colors)\n",
    "\n",
    "plt.xlabel('Troop')\n",
    "plt.ylabel('Number of Booth Signups')\n",
    "plt.title('Booth Signups per Troop with Outlier Highlighting')\n",
    "\n",
    "# Draw horizontal lines for the lower and upper bounds\n",
    "plt.axhline(lower_bound, color='orange', linestyle='--', linewidth=2, label=f'Lower Bound ({lower_bound})')\n",
    "plt.axhline(upper_bound, color='green', linestyle='--', linewidth=2, label=f'Upper Bound ({upper_bound})')\n",
    "\n",
    "plt.legend()\n",
    "plt.xticks(rotation=45)\n",
    "plt.tight_layout()\n",
    "plt.show()"
   ]
  },
  {
   "cell_type": "markdown",
   "id": "b5533cd5-c8f8-4a50-babf-7c9d6b2e771f",
   "metadata": {},
   "source": [
    "## 6. Bar Chart: Outlier Troops Only\n",
    "\n",
    "The chart below focuses solely on the outlier troops. It is a horizontal bar chart displaying only those troops that fall outside the normal range (i.e. below the lower bound or above the upper bound)."
   ]
  },
  {
   "cell_type": "code",
   "id": "55e82f1d-7f55-4ac0-8bb2-6376af9f0f3f",
   "metadata": {},
   "execution_count": null,
   "outputs": [],
   "source": [
    "# Filter the aggregated data to include only outlier troops\n",
    "outlier_troops = troop_counts[(troop_counts['Num_Booths'] < lower_bound) | (troop_counts['Num_Booths'] > upper_bound)]\n",
    "\n",
    "# Sort the outlier data\n",
    "outlier_troops = outlier_troops.sort_values('Num_Booths', ascending=True)\n",
    "\n",
    "# Create a horizontal bar chart for outlier troops\n",
    "plt.figure(figsize=(10, 6))\n",
    "bars = plt.barh(outlier_troops['Troop'], outlier_troops['Num_Booths'], color='salmon')\n",
    "\n",
    "# Add labels to each bar\n",
    "for i, (troop, count) in enumerate(zip(outlier_troops['Troop'], outlier_troops['Num_Booths'])):\n",
    "    plt.text(count + 0.5, i, str(count), va='center', fontsize=10)\n",
    "\n",
    "# Draw vertical lines indicating the lower and upper thresholds\n",
    "plt.axvline(lower_bound, color='orange', linestyle='--', linewidth=2, label=f'Lower Bound ({lower_bound})')\n",
    "plt.axvline(upper_bound, color='green', linestyle='--', linewidth=2, label=f'Upper Bound ({upper_bound})')\n",
    "\n",
    "plt.xlabel('Number of Booth Signups')\n",
    "plt.title('Outlier Troops in Booth Signups')\n",
    "plt.legend()\n",
    "plt.tight_layout()\n",
    "plt.show()"
   ]
  },
  {
   "cell_type": "markdown",
   "id": "0e12a96f-52b8-4a8c-a8e8-540a357efb46",
   "metadata": {},
   "source": [
    "## 7. Analysis Report\n",
    "\n",
    "Below is a summary of the analysis based on the aggregated data:\n",
    "\n",
    "### Overall Statistics\n",
    "\n",
    "- **Total Troops Analyzed:** {total_troops}\n",
    "- **Mean Booth Signups:** {mean_signups:.2f}\n",
    "- **Median Booth Signups:** {median_signups:.2f}\n",
    "- **Minimum Booth Signups:** {min_signups}\n",
    "- **Maximum Booth Signups:** {max_signups}\n",
    "- **Standard Deviation:** {std_signups:.2f}\n",
    "\n",
    "### IQR-Based Thresholds\n",
    "\n",
    "- **Q1:** {Q1}\n",
    "- **Q3:** {Q3}\n",
    "- **IQR:** {IQR}\n",
    "- **Lower Bound:** {lower_bound}\n",
    "- **Upper Bound:** {upper_bound}\n",
    "\n",
    "Troops with booth signup counts outside the interval [lower bound, upper bound] are considered outliers.\n",
    "\n",
    "### Outlier Details\n",
    "\n",
    "**High Outliers:** Troops with counts greater than {upper_bound}.\n",
    "**Low Outliers:** Troops with counts less than {lower_bound}.\n",
    "\n",
    "These outliers might indicate either exceptionally proactive troops (if high) or under‐participating troops (if low). Further review with troop leaders is recommended to determine if these are due to operational differences or data entry errors.\n",
    "\n",
    "### Significance\n",
    "\n",
    "Understanding which troops fall outside the typical range can help target additional support, resources, or training. High outliers may be models for best practices, while low outliers may need further engagement or investigation."
   ]
  },
  {
   "cell_type": "code",
   "id": "8b6d7338-df64-49cc-8a19-5cf9a606f55c",
   "metadata": {},
   "execution_count": null,
   "outputs": [],
   "source": [
    "# Generate a textual report using the computed statistics\n",
    "\n",
    "# Calculate overall values from troop_counts and desc_stats\n",
    "total_troops = len(troop_counts)\n",
    "mean_signups = desc_stats['mean']\n",
    "median_signups = desc_stats['50%']\n",
    "min_signups = desc_stats['min']\n",
    "max_signups = desc_stats['max']\n",
    "std_signups = desc_stats['std']\n",
    "\n",
    "report = f\"\"\"\n",
    "# Troop Booth Signups Analysis Report\n",
    "\n",
    "**Data Source:** data/2025_booth_signups_trimmed.csv\n",
    "**Total Troops Analyzed:** {total_troops}\n",
    "\n",
    "## Overall Statistics\n",
    "- Mean Booth Signups: {mean_signups:.2f}\n",
    "- Median Booth Signups: {median_signups:.2f}\n",
    "- Minimum Booth Signups: {min_signups}\n",
    "- Maximum Booth Signups: {max_signups}\n",
    "- Standard Deviation: {std_signups:.2f}\n",
    "\n",
    "## IQR-Based Thresholds\n",
    "- Q1: {Q1}\n",
    "- Q3: {Q3}\n",
    "- IQR: {IQR}\n",
    "- Lower Bound: {lower_bound}\n",
    "- Upper Bound: {upper_bound}\n",
    "\n",
    "Troops with booth signup counts outside the range [{lower_bound}, {upper_bound}] are considered outliers.\n",
    "\n",
    "## Outlier Details\n",
    "\n",
    "### High Outliers (Counts > {upper_bound})\n\"\"\"\n",
    "\n",
    "if not high_outliers.empty:\n",
    "    for index, row in high_outliers.iterrows():\n",
    "        deviation = row['Num_Booths'] - upper_bound\n",
    "        report += f\"- Troop {row['Troop']}: {row['Num_Booths']} signups ( +{deviation:.2f} above the upper bound)\\n\"\n",
    "else:\n",
    "    report += \"No high outliers detected.\\n\"\n",
    "\n",
    "report += \"\\n### Low Outliers (Counts < {lower_bound})\\n\"\n",
    "\n",
    "if not low_outliers.empty:\n",
    "    for index, row in low_outliers.iterrows():\n",
    "        deviation = lower_bound - row['Num_Booths']\n",
    "        report += f\"- Troop {row['Troop']}: {row['Num_Booths']} signups ( -{deviation:.2f} below the lower bound)\\n\"\n",
    "else:\n",
    "    report += \"No low outliers detected.\\n\"\n",
    "\n",
    "report += \"\\n## Summary and Recommendations\\n\"\n",
    "report += \"Review the above outlier troops to determine if they represent exceptional performance or require additional support. High outliers might indicate proactive management or possible data anomalies, while low outliers could signal under-participation or scheduling challenges. Further investigation and follow-up with the respective troop leaders is recommended.\\n\"\n",
    "\n",
    "print(report)"
   ]
  }
 ],
 "metadata": {
  "kernelspec": {
   "display_name": "Python 3",
   "language": "python",
   "name": "python3"
  },
  "language_info": {
   "file_extension": ".py",
   "mimetype": "text/x-python",
   "name": "python",
   "version": "3.x"
  }
 },
 "nbformat": 4,
 "nbformat_minor": 5
}
