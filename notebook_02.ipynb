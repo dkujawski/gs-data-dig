{
 "cells": [
  {
   "cell_type": "markdown",
   "id": "f1a7b736-4f80-4db3-b28b-d5b861829c16",
   "metadata": {},
   "source": [
    "# Troop Booth Signups Analysis\n",
    "\n",
    "This notebook loads data from (which contains columns such as **Troop**, **Slot Start Time**, **Slot End Time**)  and performs statistical analysis focused on the number of booth signup events per troop. In addition, the notebook identifies and labels potential outliers in the distribution of booth signup counts."
   ]
  },
  {
   "cell_type": "code",
   "execution_count": 34,
   "id": "23d9686e-0ef3-4e7f-92c7-5b3d299750c1",
   "metadata": {},
   "outputs": [
    {
     "name": "stdout",
     "output_type": "stream",
     "text": [
      "Data preview:\n"
     ]
    },
    {
     "data": {
      "text/html": [
       "<div>\n",
       "<style scoped>\n",
       "    .dataframe tbody tr th:only-of-type {\n",
       "        vertical-align: middle;\n",
       "    }\n",
       "\n",
       "    .dataframe tbody tr th {\n",
       "        vertical-align: top;\n",
       "    }\n",
       "\n",
       "    .dataframe thead th {\n",
       "        text-align: right;\n",
       "    }\n",
       "</style>\n",
       "<table border=\"1\" class=\"dataframe\">\n",
       "  <thead>\n",
       "    <tr style=\"text-align: right;\">\n",
       "      <th></th>\n",
       "      <th>Troop</th>\n",
       "      <th>Troop Email</th>\n",
       "      <th>Slot Start Time</th>\n",
       "      <th>Slot End Time</th>\n",
       "      <th>When Selected Date</th>\n",
       "      <th>When Selected Time</th>\n",
       "      <th>User Selecting</th>\n",
       "    </tr>\n",
       "  </thead>\n",
       "  <tbody>\n",
       "    <tr>\n",
       "      <th>0</th>\n",
       "      <td>3822</td>\n",
       "      <td>naldaz08@yahoo.com</td>\n",
       "      <td>2000-01-01 14:00:00</td>\n",
       "      <td>2000-01-01 16:00:00</td>\n",
       "      <td>2025/01/16 20:14:31</td>\n",
       "      <td>2025/01/16 20:14:31</td>\n",
       "      <td>naldaz08@yahoo.com</td>\n",
       "    </tr>\n",
       "    <tr>\n",
       "      <th>1</th>\n",
       "      <td>3822</td>\n",
       "      <td>naldaz08@yahoo.com</td>\n",
       "      <td>2000-01-01 16:00:00</td>\n",
       "      <td>2000-01-01 18:00:00</td>\n",
       "      <td>2025/01/16 20:14:31</td>\n",
       "      <td>2025/01/16 20:14:31</td>\n",
       "      <td>naldaz08@yahoo.com</td>\n",
       "    </tr>\n",
       "    <tr>\n",
       "      <th>2</th>\n",
       "      <td>3065</td>\n",
       "      <td>j.savage13@hotmail.com</td>\n",
       "      <td>2000-01-01 10:00:00</td>\n",
       "      <td>2000-01-01 12:00:00</td>\n",
       "      <td>2025/01/14 20:02:38</td>\n",
       "      <td>2025/01/14 20:02:38</td>\n",
       "      <td>kaitlyn.redfield@gmail.com</td>\n",
       "    </tr>\n",
       "    <tr>\n",
       "      <th>3</th>\n",
       "      <td>3065</td>\n",
       "      <td>j.savage13@hotmail.com</td>\n",
       "      <td>2000-01-01 14:00:00</td>\n",
       "      <td>2000-01-01 16:00:00</td>\n",
       "      <td>2025/01/14 20:03:02</td>\n",
       "      <td>2025/01/14 20:03:02</td>\n",
       "      <td>kaitlyn.redfield@gmail.com</td>\n",
       "    </tr>\n",
       "    <tr>\n",
       "      <th>4</th>\n",
       "      <td>3799</td>\n",
       "      <td>azchesko@gmail.com</td>\n",
       "      <td>2000-01-01 10:00:00</td>\n",
       "      <td>2000-01-01 12:00:00</td>\n",
       "      <td>2025/01/14 20:02:12</td>\n",
       "      <td>2025/01/14 20:02:12</td>\n",
       "      <td>azchesko@gmail.com</td>\n",
       "    </tr>\n",
       "  </tbody>\n",
       "</table>\n",
       "</div>"
      ],
      "text/plain": [
       "   Troop             Troop Email     Slot Start Time       Slot End Time  \\\n",
       "0   3822      naldaz08@yahoo.com 2000-01-01 14:00:00 2000-01-01 16:00:00   \n",
       "1   3822      naldaz08@yahoo.com 2000-01-01 16:00:00 2000-01-01 18:00:00   \n",
       "2   3065  j.savage13@hotmail.com 2000-01-01 10:00:00 2000-01-01 12:00:00   \n",
       "3   3065  j.savage13@hotmail.com 2000-01-01 14:00:00 2000-01-01 16:00:00   \n",
       "4   3799      azchesko@gmail.com 2000-01-01 10:00:00 2000-01-01 12:00:00   \n",
       "\n",
       "    When Selected Date   When Selected Time              User Selecting  \n",
       "0  2025/01/16 20:14:31  2025/01/16 20:14:31          naldaz08@yahoo.com  \n",
       "1  2025/01/16 20:14:31  2025/01/16 20:14:31          naldaz08@yahoo.com  \n",
       "2  2025/01/14 20:02:38  2025/01/14 20:02:38  kaitlyn.redfield@gmail.com  \n",
       "3  2025/01/14 20:03:02  2025/01/14 20:03:02  kaitlyn.redfield@gmail.com  \n",
       "4  2025/01/14 20:02:12  2025/01/14 20:02:12          azchesko@gmail.com  "
      ]
     },
     "execution_count": 34,
     "metadata": {},
     "output_type": "execute_result"
    }
   ],
   "source": [
    "import pandas as pd\n",
    "import numpy as np\n",
    "import matplotlib.pyplot as plt\n",
    "import seaborn as sns\n",
    "\n",
    "# Define the path to the data file\n",
    "data_file = \"data/2025_booth_signups_unit.csv\"\n",
    "\n",
    "# Set up plotting style\n",
    "sns.set(style=\"whitegrid\")\n",
    "plt.rcParams['figure.figsize'] = (10, 6)\n",
    "\n",
    "# Load the CSV file (with header)\n",
    "df = pd.read_csv(data_file)\n",
    "\n",
    "# Convert time columns to datetime objects\n",
    "df['Slot Start Time'] = pd.to_datetime(df['Slot Start Time'], format='%Y/%m/%d %H:%M:%S', errors='coerce')\n",
    "df['Slot End Time']   = pd.to_datetime(df['Slot End Time'], format='%Y/%m/%d %H:%M:%S', errors='coerce')\n",
    "\n",
    "# Display the first few rows\n",
    "print(\"Data preview:\")\n",
    "df.head()\n"
   ]
  },
  {
   "cell_type": "code",
   "execution_count": 35,
   "id": "73bb9102",
   "metadata": {},
   "outputs": [
    {
     "name": "stdout",
     "output_type": "stream",
     "text": [
      "Booth signup counts per troop:\n",
      "    Troop  Num_Booths\n",
      "20   3829          85\n",
      "0     872          68\n",
      "16   3822          59\n",
      "21   3839          31\n",
      "12   3475          29\n",
      "6    2820          22\n",
      "7    2877          20\n",
      "15   3819          19\n",
      "11   3315          19\n",
      "8    3065          18\n",
      "22   3997          16\n",
      "17   3824          16\n",
      "9    3296          16\n",
      "13   3630          13\n",
      "1    2554          11\n",
      "23   4208          11\n",
      "19   3828          10\n",
      "24   7223           9\n",
      "14   3799           8\n",
      "5    2674           8\n",
      "10   3312           6\n",
      "4    2626           5\n",
      "25   9670           4\n",
      "18   3827           3\n",
      "3    2603           3\n",
      "2    2570           1\n"
     ]
    }
   ],
   "source": [
    "\n",
    "# Group by Troop and count the number of signup events per troop\n",
    "troop_counts = df.groupby('Troop').size().reset_index(name='Num_Booths')\n",
    "\n",
    "# Sort by number of booths (signup events)\n",
    "troop_counts.sort_values('Num_Booths', ascending=False, inplace=True)\n",
    "print(\"Booth signup counts per troop:\")\n",
    "print(troop_counts)\n"
   ]
  },
  {
   "cell_type": "code",
   "execution_count": 36,
   "id": "47f7a54a",
   "metadata": {},
   "outputs": [
    {
     "name": "stdout",
     "output_type": "stream",
     "text": [
      "\n",
      "Descriptive statistics for booth signups per troop:\n",
      "count    26.000000\n",
      "mean     19.615385\n",
      "std      20.632163\n",
      "min       1.000000\n",
      "25%       8.000000\n",
      "50%      14.500000\n",
      "75%      19.750000\n",
      "max      85.000000\n",
      "Name: Num_Booths, dtype: float64\n",
      "Q1: 8.0, Q3: 19.75, IQR: 11.75\n",
      "Lower bound: -9.625, Upper bound: 37.375\n",
      "\n",
      "Outlier troops (by number of booth signups):\n",
      "    Troop  Num_Booths\n",
      "20   3829          85\n",
      "0     872          68\n",
      "16   3822          59\n"
     ]
    }
   ],
   "source": [
    "\n",
    "# Compute descriptive statistics\n",
    "desc_stats = troop_counts['Num_Booths'].describe()\n",
    "print(\"\\nDescriptive statistics for booth signups per troop:\")\n",
    "print(desc_stats)\n",
    "\n",
    "Q1 = troop_counts['Num_Booths'].quantile(0.25)\n",
    "Q3 = troop_counts['Num_Booths'].quantile(0.75)\n",
    "IQR = Q3 - Q1\n",
    "\n",
    "lower_bound = Q1 - 1.5 * IQR\n",
    "upper_bound = Q3 + 1.5 * IQR\n",
    "\n",
    "print(f\"Q1: {Q1}, Q3: {Q3}, IQR: {IQR}\")\n",
    "print(f\"Lower bound: {lower_bound}, Upper bound: {upper_bound}\")\n",
    "\n",
    "# Identify outlier troops\n",
    "outliers = troop_counts[(troop_counts['Num_Booths'] < lower_bound) | (troop_counts['Num_Booths'] > upper_bound)]\n",
    "print(\"\\nOutlier troops (by number of booth signups):\")\n",
    "print(outliers)"
   ]
  },
  {
   "cell_type": "markdown",
   "id": "61bde3da-d0b4-4f7d-9664-1a329fd1dced",
   "metadata": {},
   "source": [
    "## 5. Visualization with Outlier Labels\n",
    "\n",
    "Below is a boxplot of the booth signup counts per troop. In addition, we overlay a stripplot (with jitter) for each troop and label the outlier points with the corresponding troop number. We also rescale the x-axis so that the non-outlier data is not bunched up."
   ]
  },
  {
   "cell_type": "code",
   "execution_count": 37,
   "id": "be4c2fdc",
   "metadata": {},
   "outputs": [
    {
     "data": {
      "image/png": "[encoded data removed]",
      "text/plain": [
       "<Figure size 1200x600 with 1 Axes>"
      ]
     },
     "metadata": {},
     "output_type": "display_data"
    }
   ],
   "source": [
    "plt.figure(figsize=(12,6))\n",
    "\n",
    "# Create a horizontal boxplot (vertical orientation) with the signup counts.\n",
    "ax = sns.boxplot(x='Num_Booths', data=troop_counts, color='lightblue')\n",
    "sns.stripplot(x='Num_Booths', data=troop_counts, color='darkred', size=8, jitter=True, ax=ax)\n",
    "\n",
    "# Extend the x-axis: set the limit from 0 to (the maximum number of signups among troops + a margin).\n",
    "max_val = troop_counts['Num_Booths'].max()\n",
    "plt.xlim(0, max_val + 5)\n",
    "\n",
    "# Annotate outlier points with their Troop number\n",
    "for index, row in troop_counts.iterrows():\n",
    "    if row['Num_Booths'] < lower_bound or row['Num_Booths'] > upper_bound:\n",
    "        ax.text(row['Num_Booths'], 0.05, str(row['Troop']),\n",
    "                horizontalalignment='center', color='black', weight='bold', fontsize=10)\n",
    "\n",
    "plt.title('Distribution of Booth Signup Events per Troop (Outliers Labeled)')\n",
    "plt.xlabel('Number of Booth Signups')\n",
    "plt.show()\n"
   ]
  },
  {
   "cell_type": "code",
   "execution_count": 38,
   "id": "fff03fa3",
   "metadata": {},
   "outputs": [
    {
     "data": {
      "image/png": "[encoded data removed]",
      "text/plain": [
       "<Figure size 1000x600 with 1 Axes>"
      ]
     },
     "metadata": {},
     "output_type": "display_data"
    }
   ],
   "source": [
    "# Additional Visualization: Bar Chart for Outlier Troops Only\n",
    "\n",
    "# Filter the aggregated data to include only outlier troops\n",
    "outlier_troops = troop_counts[(troop_counts['Num_Booths'] < lower_bound) | (troop_counts['Num_Booths'] > upper_bound)]\n",
    "\n",
    "# If there are outliers, create a horizontal bar chart; otherwise, print a message.\n",
    "if outlier_troops.empty:\n",
    "    print(\"No outlier troops detected based on the current IQR thresholds.\")\n",
    "else:\n",
    "    # Sort the outlier data by number of booth signups in ascending order\n",
    "    outlier_troops_sorted = outlier_troops.sort_values('Num_Booths', ascending=True)\n",
    "    \n",
    "    plt.figure(figsize=(10, 6))\n",
    "    # Convert the Troop column to string for better labeling on the y-axis.\n",
    "    plt.barh(outlier_troops_sorted['Troop'].astype(str), outlier_troops_sorted['Num_Booths'], color='salmon')\n",
    "    plt.xlabel(\"Number of Booth Signups\")\n",
    "    plt.ylabel(\"Troop\")\n",
    "    plt.title(\"Outlier Troop Booth Signups\")\n",
    "    \n",
    "    # Annotate each bar with its signup count, with a small horizontal offset\n",
    "    for i, (troop, count) in enumerate(zip(outlier_troops_sorted['Troop'], outlier_troops_sorted['Num_Booths'])):\n",
    "        plt.text(count + 1, i, str(count), va='center', fontsize=10)\n",
    "    \n",
    "    plt.tight_layout()\n",
    "    plt.show()\n"
   ]
  },
  {
   "cell_type": "markdown",
   "id": "acda6ea6-2f9e-4e27-8d5f-c86d18bd0316",
   "metadata": {},
   "source": [
    "## 6. Save the Summary Data\n",
    "\n",
    "Finally, we save the aggregated summary (the number of booth signup events per troop) to a CSV file for further reporting or analysis."
   ]
  },
  {
   "cell_type": "code",
   "execution_count": 39,
   "id": "d0e739d9-c2d7-4d61-9326-4b5eae8f5c93",
   "metadata": {},
   "outputs": [
    {
     "name": "stdout",
     "output_type": "stream",
     "text": [
      "Summary data saved to troop_booth_summary.csv\n"
     ]
    }
   ],
   "source": [
    "output_file = 'troop_booth_summary.csv'\n",
    "troop_counts.to_csv(output_file, index=False)\n",
    "print(f\"Summary data saved to {output_file}\")"
   ]
  }
 ],
 "metadata": {
  "kernelspec": {
   "display_name": "az-cactus-pine-data-8me9F4vh-py3.13",
   "language": "python",
   "name": "python3"
  },
  "language_info": {
   "codemirror_mode": {
    "name": "ipython",
    "version": 3
   },
   "file_extension": ".py",
   "mimetype": "text/x-python",
   "name": "python",
   "nbconvert_exporter": "python",
   "pygments_lexer": "ipython3",
   "version": "3.13.1"
  }
 },
 "nbformat": 4,
 "nbformat_minor": 5
}
